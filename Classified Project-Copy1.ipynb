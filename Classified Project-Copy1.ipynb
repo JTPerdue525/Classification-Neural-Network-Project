{
 "cells": [
  {
   "cell_type": "code",
   "execution_count": 1,
   "metadata": {
    "scrolled": true
   },
   "outputs": [
    {
     "data": {
      "image/png": "[encoded data removed]",
      "text/plain": [
       "<Figure size 432x288 with 2 Axes>"
      ]
     },
     "metadata": {
      "needs_background": "light"
     },
     "output_type": "display_data"
    }
   ],
   "source": [
    "import tensorflow as tf\n",
    "\n",
    "import numpy as np\n",
    "import matplotlib.pyplot as plt\n",
    "\n",
    "#https://www.cs.toronto.edu/~kriz/cifar.html(Learning Multiple Layers of Features from Tiny Images, Alex Krizhevsky, 2009.)\n",
    "(train_images, train_labels), (test_images, test_labels)= tf.keras.datasets.cifar10.load_data() \n",
    "\n",
    "#1-automobile = 1, dinosaur = 2, cat = 3, deer = 4, airplane = 5, frog = 6, horse = 7, ship = 8, truck = 9\n",
    "class_names = ['automobile', 'bird', 'cat', 'deer', 'airplane', 'frog', 'horse', 'ship', 'truck']\n",
    "\n",
    "train_images = train_images / 255.0  # Takes away some pixels before sending into the model (255 because that is the range of pixels in each picture 0-255)\n",
    "test_images = test_images / 255.0\n",
    "\n",
    "plt.figure()\n",
    "plt.imshow(train_images[0])  # These preprocess the data\n",
    "plt.colorbar()\n",
    "plt.grid(False)\n",
    "\n"
   ]
  },
  {
   "cell_type": "code",
   "execution_count": 2,
   "metadata": {},
   "outputs": [],
   "source": [
    "model = tf.keras.Sequential([   # creating a model with layers which are basically data modifiers and labelers\n",
    "    tf.keras.layers.Flatten(input_shape=(32, 32,3)), #Takes the 2 dimensional array 28X28 pixels too 1 dimensional 748 pixel array\n",
    "    tf.keras.layers.Dense(256, activation='relu'), # The first Dense layer has 128 nodes (or neurons)\n",
    "    tf.keras.layers.Dense(128, activation='relu'),\n",
    "    tf.keras.layers.Dense(10) #The second (and last) layer returns a logits array with length of 10. Each node contains a score that indicates the current image belongs to one of the 10 classes.\n",
    "])\n",
    "\n",
    "#Could make the results better by increasing layers or adding neurons\n",
    "#Could look into convolutional layer instead (for 2d array)\n",
    "\n",
    "model.compile(optimizer='adam', #This is how the model is updated based on the data it sees and its loss function.\n",
    "              loss=tf.keras.losses.SparseCategoricalCrossentropy(from_logits=True), #This measures how accurate the model is during training. You want to minimize this function to \"steer\" the model in the right direction.\n",
    "              metrics=['accuracy']) #Used to monitor the training and testing steps. The following example uses accuracy, the fraction of the images that are correctly classified.\n"
   ]
  },
  {
   "cell_type": "code",
   "execution_count": 3,
   "metadata": {
    "scrolled": true
   },
   "outputs": [
    {
     "name": "stdout",
     "output_type": "stream",
     "text": [
      "Train on 50000 samples\n",
      "Epoch 1/20\n",
      "50000/50000 [==============================] - 17s 336us/sample - loss: 1.8594 - accuracy: 0.3285\n",
      "Epoch 2/20\n",
      "50000/50000 [==============================] - 15s 293us/sample - loss: 1.6921 - accuracy: 0.3942\n",
      "Epoch 3/20\n",
      "50000/50000 [==============================] - 15s 302us/sample - loss: 1.6198 - accuracy: 0.4220\n",
      "Epoch 4/20\n",
      "50000/50000 [==============================] - 15s 292us/sample - loss: 1.5705 - accuracy: 0.4383\n",
      "Epoch 5/20\n",
      "50000/50000 [==============================] - 15s 306us/sample - loss: 1.5314 - accuracy: 0.4550- l\n",
      "Epoch 6/20\n",
      "50000/50000 [==============================] - 15s 298us/sample - loss: 1.5015 - accuracy: 0.4628\n",
      "Epoch 7/20\n",
      "50000/50000 [==============================] - 15s 298us/sample - loss: 1.4775 - accuracy: 0.4728\n",
      "Epoch 8/20\n",
      "50000/50000 [==============================] - 15s 303us/sample - loss: 1.4633 - accuracy: 0.4783\n",
      "Epoch 9/20\n",
      "50000/50000 [==============================] - 15s 297us/sample - loss: 1.4420 - accuracy: 0.4851\n",
      "Epoch 10/20\n",
      "50000/50000 [==============================] - 15s 306us/sample - loss: 1.4281 - accuracy: 0.4906\n",
      "Epoch 11/20\n",
      "50000/50000 [==============================] - 15s 303us/sample - loss: 1.4217 - accuracy: 0.4940\n",
      "Epoch 12/20\n",
      "50000/50000 [==============================] - 15s 305us/sample - loss: 1.4038 - accuracy: 0.4994\n",
      "Epoch 13/20\n",
      "50000/50000 [==============================] - 16s 314us/sample - loss: 1.3907 - accuracy: 0.5028\n",
      "Epoch 14/20\n",
      "50000/50000 [==============================] - 15s 306us/sample - loss: 1.3873 - accuracy: 0.5055\n",
      "Epoch 15/20\n",
      "50000/50000 [==============================] - 16s 312us/sample - loss: 1.3732 - accuracy: 0.5108\n",
      "Epoch 16/20\n",
      "50000/50000 [==============================] - 16s 313us/sample - loss: 1.3649 - accuracy: 0.5099\n",
      "Epoch 17/20\n",
      "50000/50000 [==============================] - 15s 301us/sample - loss: 1.3598 - accuracy: 0.5158\n",
      "Epoch 18/20\n",
      "50000/50000 [==============================] - 15s 308us/sample - loss: 1.3535 - accuracy: 0.5145\n",
      "Epoch 19/20\n",
      "50000/50000 [==============================] - 16s 325us/sample - loss: 1.3419 - accuracy: 0.5211\n",
      "Epoch 20/20\n",
      "50000/50000 [==============================] - 15s 298us/sample - loss: 1.3381 - accuracy: 0.5227\n"
     ]
    },
    {
     "data": {
      "text/plain": [
       "<tensorflow.python.keras.callbacks.History at 0x1d470b5f848>"
      ]
     },
     "execution_count": 3,
     "metadata": {},
     "output_type": "execute_result"
    }
   ],
   "source": [
    "\n",
    "\n",
    "model.fit(train_images,train_labels, epochs=20) #Fits the model to the training data. Start of learning"
   ]
  },
  {
   "cell_type": "code",
   "execution_count": 4,
   "metadata": {},
   "outputs": [
    {
     "name": "stdout",
     "output_type": "stream",
     "text": [
      "10000/10000 - 1s - loss: 1.4912 - accuracy: 0.4782\n",
      "\n",
      "Test accuracy: 0.4782\n"
     ]
    }
   ],
   "source": [
    "test_loss, test_acc = model.evaluate(test_images,  test_labels, verbose=2) #Seeing the models performance on the test dataset\n",
    "\n",
    "print('\\nTest accuracy:', test_acc) # Will be worse accuracy than the training data set, which means the model is overfitted so it performs worse on new information than its old information"
   ]
  },
  {
   "cell_type": "code",
   "execution_count": 5,
   "metadata": {},
   "outputs": [
    {
     "data": {
      "text/plain": [
       "array([0.03378117, 0.01720163, 0.02802441, 0.3921038 , 0.1356448 ,\n",
       "       0.32756552, 0.0102349 , 0.00088599, 0.05062369, 0.00393415],\n",
       "      dtype=float32)"
      ]
     },
     "execution_count": 5,
     "metadata": {},
     "output_type": "execute_result"
    }
   ],
   "source": [
    "probability_model = tf.keras.Sequential([model, \n",
    "                                         tf.keras.layers.Softmax()]) #Converts the model to probability logits\n",
    "predictions = probability_model.predict(test_images) #The model has predicted the label for each image in the testing set\n",
    "predictions[0] # Will show how confident the model is about saying that the picture is one of the articles of clothing. Higher number means more confidence"
   ]
  },
  {
   "cell_type": "code",
   "execution_count": 6,
   "metadata": {},
   "outputs": [
    {
     "data": {
      "text/plain": [
       "3"
      ]
     },
     "execution_count": 6,
     "metadata": {},
     "output_type": "execute_result"
    }
   ],
   "source": [
    "np.argmax(predictions[0]) #Shows the most confident prediction"
   ]
  },
  {
   "cell_type": "code",
   "execution_count": 7,
   "metadata": {},
   "outputs": [
    {
     "data": {
      "text/plain": [
       "array([3], dtype=uint8)"
      ]
     },
     "execution_count": 7,
     "metadata": {},
     "output_type": "execute_result"
    }
   ],
   "source": [
    "test_labels[0] #To check the model, which is correct"
   ]
  },
  {
   "cell_type": "code",
   "execution_count": 10,
   "metadata": {
    "scrolled": true
   },
   "outputs": [
    {
     "name": "stdout",
     "output_type": "stream",
     "text": [
      "(32, 32, 3)\n",
      "(1, 32, 32, 3)\n",
      "[[0.00837917 0.5002975  0.06269096 0.04196026 0.00684979 0.01935722\n",
      "  0.08703174 0.06540264 0.04708498 0.16094576]]\n",
      "The model thinks it's a \n",
      "automobile\n"
     ]
    }
   ],
   "source": [
    "# Grab an image from the test dataset.\n",
    "img = test_images[np.random.randint(400)]\n",
    "\n",
    "print(img.shape)\n",
    "\n",
    "# Add the image to a batch where it's the only member.\n",
    "img = (np.expand_dims(img,0))\n",
    "\n",
    "print(img.shape)\n",
    "\n",
    "predictions_single = probability_model.predict(img)\n",
    "\n",
    "print(predictions_single)\n",
    "\n",
    "np.argmax(predictions_single)\n",
    "print(\"The model thinks it's a \")\n",
    "print(class_names[np.argmax(predictions_single)-1])"
   ]
  },
  {
   "cell_type": "code",
   "execution_count": 11,
   "metadata": {
    "scrolled": false
   },
   "outputs": [
    {
     "data": {
      "text/plain": [
       "<function matplotlib.pyplot.show(close=None, block=None)>"
      ]
     },
     "execution_count": 11,
     "metadata": {},
     "output_type": "execute_result"
    },
    {
     "data": {
      "image/png": "[encoded data removed]",
      "text/plain": [
       "<Figure size 432x288 with 1 Axes>"
      ]
     },
     "metadata": {
      "needs_background": "light"
     },
     "output_type": "display_data"
    }
   ],
   "source": [
    "plt.imshow(img[0])\n",
    "plt.show"
   ]
  },
  {
   "cell_type": "code",
   "execution_count": null,
   "metadata": {},
   "outputs": [],
   "source": []
  }
 ],
 "metadata": {
  "kernelspec": {
   "display_name": "Python 3",
   "language": "python",
   "name": "python3"
  },
  "language_info": {
   "codemirror_mode": {
    "name": "ipython",
    "version": 3
   },
   "file_extension": ".py",
   "mimetype": "text/x-python",
   "name": "python",
   "nbconvert_exporter": "python",
   "pygments_lexer": "ipython3",
   "version": "3.7.9"
  }
 },
 "nbformat": 4,
 "nbformat_minor": 4
}
